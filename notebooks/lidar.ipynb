{
 "metadata": {
  "name": "",
  "signature": "sha256:cbf462dfc478ca99731c810985af733fe6ea0eaddcf6267413a989dfa1581005"
 },
 "nbformat": 3,
 "nbformat_minor": 0,
 "worksheets": [
  {
   "cells": [
    {
     "cell_type": "code",
     "collapsed": false,
     "input": [
      "from os import path\n",
      "\n",
      "from PIL import Image\n",
      "import numpy"
     ],
     "language": "python",
     "metadata": {},
     "outputs": [],
     "prompt_number": 1
    },
    {
     "cell_type": "code",
     "collapsed": false,
     "input": [
      "grid_ref = 'TQ3080'\n",
      "data_path = path.join('/Users/ericgeorge/Development/projects/poke/sun', 'lidar', 'TQ38')"
     ],
     "language": "python",
     "metadata": {},
     "outputs": [],
     "prompt_number": 2
    },
    {
     "cell_type": "code",
     "collapsed": false,
     "input": [
      "path = [[-65.26517701521516,-75.32002221236144],[-34.75565815158188,-101.61504794730354],[-9.66809403616935,-123.23963202887717],[-34.12053139694035,-151.73811064416805],[-50.9513650033623,-169.8269214991342],[-132.57604162860662,-261.4934894982798],[-135.51638862490654,-263.879953415204],[-139.7269627097994,-264.3484616688329],[-142.7025898899883,-263.5871357566866],[-149.26542976032943,-260.43934592761434],[-143.8434425611049,-255.21255072306303],[-186.27828479651362,-215.19901768654017],[-114.14590991195291,-130.78700717718675]]"
     ],
     "language": "python",
     "metadata": {},
     "outputs": [],
     "prompt_number": 3
    },
    {
     "cell_type": "code",
     "collapsed": false,
     "input": [
      "filename_pattern = '{0}_DSM_2M.asc'\n",
      "filename = path.join(data_path, 'DSM', filename_pattern.format(grid_ref))\n",
      "with open(filename, 'r') as data:\n",
      "    print \"Opened file\"\n",
      "    #parameters = dict()\n",
      "    heightmap = []\n",
      "    print \"Building array\"\n",
      "    for line in data:\n",
      "        if not line[0].isdigit():\n",
      "           # parse the parameters; ncols, nrows etc.\n",
      "           # parameters[line.split(' ')[0]] = line[14:]\n",
      "            print line\n",
      "            continue\n",
      "    # For the space-delimited numeric data\n",
      "        heightmap.append(line.split(' ')[:-1])\n",
      "    buildingMap = numpy.array(heightmap).astype(float)\n",
      "    print \"Array done\"\n",
      "    arrayFile = open('numpyarray.npy', 'w')\n",
      "    numpy.save(arrayFile, buildingMap)\n",
      "    print buildingMap"
     ],
     "language": "python",
     "metadata": {},
     "outputs": [
      {
       "ename": "AttributeError",
       "evalue": "'list' object has no attribute 'join'",
       "output_type": "pyerr",
       "traceback": [
        "\u001b[0;31m---------------------------------------------------------------------------\u001b[0m\n\u001b[0;31mAttributeError\u001b[0m                            Traceback (most recent call last)",
        "\u001b[0;32m<ipython-input-4-d9b7c0f19175>\u001b[0m in \u001b[0;36m<module>\u001b[0;34m()\u001b[0m\n\u001b[1;32m      1\u001b[0m \u001b[0mfilename_pattern\u001b[0m \u001b[0;34m=\u001b[0m \u001b[0;34m'{0}_DSM_2M.asc'\u001b[0m\u001b[0;34m\u001b[0m\u001b[0m\n\u001b[0;32m----> 2\u001b[0;31m \u001b[0mfilename\u001b[0m \u001b[0;34m=\u001b[0m \u001b[0mpath\u001b[0m\u001b[0;34m.\u001b[0m\u001b[0mjoin\u001b[0m\u001b[0;34m(\u001b[0m\u001b[0mdata_path\u001b[0m\u001b[0;34m,\u001b[0m \u001b[0;34m'DSM'\u001b[0m\u001b[0;34m,\u001b[0m \u001b[0mfilename_pattern\u001b[0m\u001b[0;34m.\u001b[0m\u001b[0mformat\u001b[0m\u001b[0;34m(\u001b[0m\u001b[0mgrid_ref\u001b[0m\u001b[0;34m)\u001b[0m\u001b[0;34m)\u001b[0m\u001b[0;34m\u001b[0m\u001b[0m\n\u001b[0m\u001b[1;32m      3\u001b[0m \u001b[0;32mwith\u001b[0m \u001b[0mopen\u001b[0m\u001b[0;34m(\u001b[0m\u001b[0mfilename\u001b[0m\u001b[0;34m,\u001b[0m \u001b[0;34m'r'\u001b[0m\u001b[0;34m)\u001b[0m \u001b[0;32mas\u001b[0m \u001b[0mdata\u001b[0m\u001b[0;34m:\u001b[0m\u001b[0;34m\u001b[0m\u001b[0m\n\u001b[1;32m      4\u001b[0m     \u001b[0;32mprint\u001b[0m \u001b[0;34m\"Opened file\"\u001b[0m\u001b[0;34m\u001b[0m\u001b[0m\n\u001b[1;32m      5\u001b[0m     \u001b[0;31m#parameters = dict()\u001b[0m\u001b[0;34m\u001b[0m\u001b[0;34m\u001b[0m\u001b[0m\n",
        "\u001b[0;31mAttributeError\u001b[0m: 'list' object has no attribute 'join'"
       ]
      }
     ],
     "prompt_number": 4
    },
    {
     "cell_type": "code",
     "collapsed": false,
     "input": [
      "normArray = (128.0 / buildingMap.max() * (buildingMap - buildingMap.min())).astype(numpy.uint8)\n",
      "im = Image.fromarray(normArray)"
     ],
     "language": "python",
     "metadata": {},
     "outputs": [
      {
       "ename": "NameError",
       "evalue": "name 'buildingMap' is not defined",
       "output_type": "pyerr",
       "traceback": [
        "\u001b[0;31m---------------------------------------------------------------------------\u001b[0m\n\u001b[0;31mNameError\u001b[0m                                 Traceback (most recent call last)",
        "\u001b[0;32m<ipython-input-5-0b5ce50c9d1d>\u001b[0m in \u001b[0;36m<module>\u001b[0;34m()\u001b[0m\n\u001b[0;32m----> 1\u001b[0;31m \u001b[0mnormArray\u001b[0m \u001b[0;34m=\u001b[0m \u001b[0;34m(\u001b[0m\u001b[0;36m128.0\u001b[0m \u001b[0;34m/\u001b[0m \u001b[0mbuildingMap\u001b[0m\u001b[0;34m.\u001b[0m\u001b[0mmax\u001b[0m\u001b[0;34m(\u001b[0m\u001b[0;34m)\u001b[0m \u001b[0;34m*\u001b[0m \u001b[0;34m(\u001b[0m\u001b[0mbuildingMap\u001b[0m \u001b[0;34m-\u001b[0m \u001b[0mbuildingMap\u001b[0m\u001b[0;34m.\u001b[0m\u001b[0mmin\u001b[0m\u001b[0;34m(\u001b[0m\u001b[0;34m)\u001b[0m\u001b[0;34m)\u001b[0m\u001b[0;34m)\u001b[0m\u001b[0;34m.\u001b[0m\u001b[0mastype\u001b[0m\u001b[0;34m(\u001b[0m\u001b[0mnumpy\u001b[0m\u001b[0;34m.\u001b[0m\u001b[0muint8\u001b[0m\u001b[0;34m)\u001b[0m\u001b[0;34m\u001b[0m\u001b[0m\n\u001b[0m\u001b[1;32m      2\u001b[0m \u001b[0mim\u001b[0m \u001b[0;34m=\u001b[0m \u001b[0mImage\u001b[0m\u001b[0;34m.\u001b[0m\u001b[0mfromarray\u001b[0m\u001b[0;34m(\u001b[0m\u001b[0mnormArray\u001b[0m\u001b[0;34m)\u001b[0m\u001b[0;34m\u001b[0m\u001b[0m\n",
        "\u001b[0;31mNameError\u001b[0m: name 'buildingMap' is not defined"
       ]
      }
     ],
     "prompt_number": 5
    },
    {
     "cell_type": "code",
     "collapsed": false,
     "input": [
      "im.show()"
     ],
     "language": "python",
     "metadata": {},
     "outputs": [],
     "prompt_number": 43
    },
    {
     "cell_type": "code",
     "collapsed": false,
     "input": [
      "img_filename_pattern = '{0}_DSM_2M.jpg'\n",
      "img_filename = path.join(data_path, 'DSMJPG', img_filename_pattern.format(grid_ref))\n",
      "im2 = Image.open(img_filename)"
     ],
     "language": "python",
     "metadata": {},
     "outputs": [],
     "prompt_number": 35
    },
    {
     "cell_type": "code",
     "collapsed": false,
     "input": [
      "im2.show()"
     ],
     "language": "python",
     "metadata": {},
     "outputs": [],
     "prompt_number": 36
    },
    {
     "cell_type": "code",
     "collapsed": false,
     "input": [],
     "language": "python",
     "metadata": {},
     "outputs": []
    }
   ],
   "metadata": {}
  }
 ]
}